{
 "cells": [
  {
   "cell_type": "code",
   "execution_count": 1,
   "id": "c2e8109b-2095-4f9f-b295-8af503477b01",
   "metadata": {},
   "outputs": [
    {
     "name": "stdout",
     "output_type": "stream",
     "text": [
      "loading... category : 0\n",
      "loaded category:0 successfully\n",
      "loading... category : 90\n",
      "loaded category:90 successfully\n",
      "loading... category : 180\n",
      "loaded category:180 successfully\n",
      "loading... category : 270\n",
      "loaded category:270 successfully\n"
     ]
    }
   ],
   "source": [
    "from __future__ import division\n",
    "from sklearn.neighbors import KNeighborsClassifier\n",
    "import timeit\n",
    "import numpy as np\n",
    "from sklearn.decomposition import PCA\n",
    "\n",
    "import pandas as pd\n",
    "import os\n",
    "from skimage.transform import resize\n",
    "from skimage.io import imread\n",
    "import numpy as np\n",
    "import matplotlib.pyplot as plt\n",
    "Categories=['0','90','180','270']\n",
    "flat_data_arr=[] #input array\n",
    "target_arr=[] #output array\n",
    "for i in Categories:\n",
    "    \n",
    "    print(f'loading... category : {i}')\n",
    "    path=os.path.join('./train',i)\n",
    "    for img in os.listdir(path):\n",
    "        img_array=imread(os.path.join(path,img))\n",
    "        img_resized=resize(img_array,(30,30,3))\n",
    "        flat_data_arr.append(img_resized.flatten())\n",
    "        target_arr.append(Categories[Categories.index(i)])\n",
    "    print(f'loaded category:{i} successfully')\n",
    "flat_data=np.array(flat_data_arr)\n",
    "target=np.array(target_arr)\n",
    "df=pd.DataFrame(flat_data) #dataframe\n",
    "df['Target']=target\n"
   ]
  },
  {
   "cell_type": "code",
   "execution_count": 2,
   "id": "43aff31a-1b3c-4aaf-95ba-520877dd8285",
   "metadata": {},
   "outputs": [
    {
     "name": "stdout",
     "output_type": "stream",
     "text": [
      "(17600, 2700)\n",
      "(17600,)\n"
     ]
    }
   ],
   "source": [
    "import sklearn\n",
    "df = sklearn.utils.shuffle(df)\n",
    "x=df.iloc[:,:-1] #input data \n",
    "y=df.iloc[:,-1] #output data\n",
    "print(x.shape)\n",
    "print(y.shape)"
   ]
  },
  {
   "cell_type": "code",
   "execution_count": 22,
   "id": "a79363b1-1926-4ccd-a424-3bb79c00ca5f",
   "metadata": {},
   "outputs": [
    {
     "name": "stdout",
     "output_type": "stream",
     "text": [
      "Fitting 10 folds for each of 144 candidates, totalling 1440 fits\n",
      "41.0 %\n"
     ]
    }
   ],
   "source": [
    "pca = PCA(n_components=0.8, svd_solver=\"full\")\n",
    "from sklearn.model_selection import train_test_split\n",
    "from sklearn.model_selection import GridSearchCV\n",
    "from sklearn.neighbors import KNeighborsClassifier\n",
    "x_train,x_test,y_train,y_test=train_test_split(x,y,test_size=0.20,random_state=77)\n",
    "X = pca.fit_transform(x_train)\n",
    "\n",
    "Xt = pca.transform(x_test)\n",
    "param_grid_knn = {\n",
    "    'n_neighbors': [2,4,5,8, 10, 15,20,25,50],                           \n",
    "    'algorithm': ['ball_tree', 'kd_tree', 'brute', 'auto'],          \n",
    "    'metric': ['minkowski', 'euclidean', 'manhattan', 'chebyshev']\n",
    "}\n",
    "\n",
    "knn = GridSearchCV(estimator=KNeighborsClassifier(), param_grid=param_grid_knn, verbose=1, cv=10, n_jobs=-1)\n",
    "\n",
    "\n",
    "knn.fit(X, y_train)\n",
    "score = knn.score(Xt, y_test)\n",
    "print (round(score, 2)*100, \"%\")"
   ]
  },
  {
   "cell_type": "code",
   "execution_count": 23,
   "id": "0c429db1-e943-4c6f-b9ff-0135aad7d654",
   "metadata": {},
   "outputs": [
    {
     "data": {
      "text/plain": [
       "{'algorithm': 'ball_tree', 'metric': 'minkowski', 'n_neighbors': 50}"
      ]
     },
     "execution_count": 23,
     "metadata": {},
     "output_type": "execute_result"
    }
   ],
   "source": [
    "knn.best_params_"
   ]
  },
  {
   "cell_type": "code",
   "execution_count": 24,
   "id": "7da7308e",
   "metadata": {},
   "outputs": [],
   "source": [
    "y_pred=knn.predict(Xt)"
   ]
  },
  {
   "cell_type": "code",
   "execution_count": 25,
   "id": "b4b4d107",
   "metadata": {},
   "outputs": [
    {
     "data": {
      "text/plain": [
       "0.4119318181818182"
      ]
     },
     "execution_count": 25,
     "metadata": {},
     "output_type": "execute_result"
    }
   ],
   "source": [
    "from sklearn.metrics import accuracy_score\n",
    "accuracy_score(y_test, y_pred)"
   ]
  },
  {
   "cell_type": "code",
   "execution_count": null,
   "id": "6b4afe11",
   "metadata": {},
   "outputs": [],
   "source": []
  }
 ],
 "metadata": {
  "kernelspec": {
   "display_name": "Python 3.10.8 64-bit (microsoft store)",
   "language": "python",
   "name": "python3"
  },
  "language_info": {
   "codemirror_mode": {
    "name": "ipython",
    "version": 3
   },
   "file_extension": ".py",
   "mimetype": "text/x-python",
   "name": "python",
   "nbconvert_exporter": "python",
   "pygments_lexer": "ipython3",
   "version": "3.10.8"
  },
  "vscode": {
   "interpreter": {
    "hash": "450bd91a8d76f17e282780a535e8490ab29f4f982a9a1444bd929e5d29ffbd52"
   }
  }
 },
 "nbformat": 4,
 "nbformat_minor": 5
}
