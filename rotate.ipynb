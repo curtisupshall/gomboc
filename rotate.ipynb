{
 "cells": [
  {
   "cell_type": "markdown",
   "id": "ae319c88",
   "metadata": {},
   "source": [
    "## rotate.py\n",
    "\n",
    "Moves all images in a given directory into four subdirectories, then labels rotates them accordingly."
   ]
  },
  {
   "cell_type": "code",
   "execution_count": 1,
   "id": "cdfa1a8d",
   "metadata": {},
   "outputs": [],
   "source": [
    "import os\n",
    "import random\n",
    "import numpy as np\n",
    "import PIL\n",
    "from PIL import Image\n",
    "from pathlib import Path\n",
    "from tqdm import tqdm"
   ]
  },
  {
   "cell_type": "code",
   "execution_count": 2,
   "id": "70b44d8c",
   "metadata": {},
   "outputs": [
    {
     "name": "stdout",
     "output_type": "stream",
     "text": [
      "Processing folder: astro_objects\n"
     ]
    },
    {
     "name": "stderr",
     "output_type": "stream",
     "text": [
      " 27%|██▋       | 273/1002 [00:24<01:00, 12.07it/s]C:\\Users\\curtisu\\AppData\\Local\\Packages\\PythonSoftwareFoundation.Python.3.10_qbz5n2kfra8p0\\LocalCache\\local-packages\\Python310\\site-packages\\PIL\\Image.py:3035: DecompressionBombWarning: Image size (101931654 pixels) exceeds limit of 89478485 pixels, could be decompression bomb DOS attack.\n",
      "  warnings.warn(\n",
      "100%|██████████| 1002/1002 [01:42<00:00,  9.80it/s]\n"
     ]
    },
    {
     "name": "stdout",
     "output_type": "stream",
     "text": [
      "Processing folder: cubes\n"
     ]
    },
    {
     "name": "stderr",
     "output_type": "stream",
     "text": [
      "100%|██████████| 36/36 [00:06<00:00,  5.74it/s]\n"
     ]
    },
    {
     "name": "stdout",
     "output_type": "stream",
     "text": [
      "Processing folder: extracted_images\n"
     ]
    },
    {
     "name": "stderr",
     "output_type": "stream",
     "text": [
      " 11%|█▏        | 1142/9997 [01:58<19:41,  7.49it/s] C:\\Users\\curtisu\\AppData\\Local\\Packages\\PythonSoftwareFoundation.Python.3.10_qbz5n2kfra8p0\\LocalCache\\local-packages\\Python310\\site-packages\\PIL\\Image.py:3035: DecompressionBombWarning: Image size (112228326 pixels) exceeds limit of 89478485 pixels, could be decompression bomb DOS attack.\n",
      "  warnings.warn(\n",
      " 21%|██▏       | 2129/9997 [03:50<24:46,  5.29it/s]  C:\\Users\\curtisu\\AppData\\Local\\Packages\\PythonSoftwareFoundation.Python.3.10_qbz5n2kfra8p0\\LocalCache\\local-packages\\Python310\\site-packages\\PIL\\Image.py:3035: DecompressionBombWarning: Image size (95087976 pixels) exceeds limit of 89478485 pixels, could be decompression bomb DOS attack.\n",
      "  warnings.warn(\n",
      " 66%|██████▌   | 6604/9997 [12:57<05:27, 10.36it/s]  C:\\Users\\curtisu\\AppData\\Local\\Packages\\PythonSoftwareFoundation.Python.3.10_qbz5n2kfra8p0\\LocalCache\\local-packages\\Python310\\site-packages\\PIL\\Image.py:3035: DecompressionBombWarning: Image size (99987930 pixels) exceeds limit of 89478485 pixels, could be decompression bomb DOS attack.\n",
      "  warnings.warn(\n",
      " 79%|███████▉  | 7875/9997 [15:10<03:46,  9.38it/s]C:\\Users\\curtisu\\AppData\\Local\\Packages\\PythonSoftwareFoundation.Python.3.10_qbz5n2kfra8p0\\LocalCache\\local-packages\\Python310\\site-packages\\PIL\\Image.py:3035: DecompressionBombWarning: Image size (106712326 pixels) exceeds limit of 89478485 pixels, could be decompression bomb DOS attack.\n",
      "  warnings.warn(\n",
      "100%|██████████| 9997/9997 [18:53<00:00,  8.82it/s]\n"
     ]
    },
    {
     "name": "stdout",
     "output_type": "stream",
     "text": [
      "Processing folder: illustrations\n"
     ]
    },
    {
     "name": "stderr",
     "output_type": "stream",
     "text": [
      "  5%|▌         | 300/5749 [01:11<29:24,  3.09it/s]  C:\\Users\\curtisu\\AppData\\Local\\Packages\\PythonSoftwareFoundation.Python.3.10_qbz5n2kfra8p0\\LocalCache\\local-packages\\Python310\\site-packages\\PIL\\Image.py:3035: DecompressionBombWarning: Image size (90315008 pixels) exceeds limit of 89478485 pixels, could be decompression bomb DOS attack.\n",
      "  warnings.warn(\n",
      " 67%|██████▋   | 3829/5749 [16:09<03:22,  9.49it/s]  C:\\Users\\curtisu\\AppData\\Local\\Packages\\PythonSoftwareFoundation.Python.3.10_qbz5n2kfra8p0\\LocalCache\\local-packages\\Python310\\site-packages\\PIL\\Image.py:3035: DecompressionBombWarning: Image size (92878016 pixels) exceeds limit of 89478485 pixels, could be decompression bomb DOS attack.\n",
      "  warnings.warn(\n",
      " 68%|██████▊   | 3932/5749 [16:45<17:07,  1.77it/s]C:\\Users\\curtisu\\AppData\\Local\\Packages\\PythonSoftwareFoundation.Python.3.10_qbz5n2kfra8p0\\LocalCache\\local-packages\\Python310\\site-packages\\PIL\\Image.py:3035: DecompressionBombWarning: Image size (121615285 pixels) exceeds limit of 89478485 pixels, could be decompression bomb DOS attack.\n",
      "  warnings.warn(\n",
      "100%|██████████| 5749/5749 [23:22<00:00,  4.10it/s]\n"
     ]
    },
    {
     "name": "stdout",
     "output_type": "stream",
     "text": [
      "Processing folder: nature\n"
     ]
    },
    {
     "name": "stderr",
     "output_type": "stream",
     "text": [
      " 23%|██▎       | 701/3000 [02:38<07:22,  5.19it/s]C:\\Users\\curtisu\\AppData\\Local\\Packages\\PythonSoftwareFoundation.Python.3.10_qbz5n2kfra8p0\\LocalCache\\local-packages\\Python310\\site-packages\\PIL\\Image.py:3035: DecompressionBombWarning: Image size (127658970 pixels) exceeds limit of 89478485 pixels, could be decompression bomb DOS attack.\n",
      "  warnings.warn(\n",
      " 33%|███▎      | 992/3000 [03:58<07:17,  4.59it/s]C:\\Users\\curtisu\\AppData\\Local\\Packages\\PythonSoftwareFoundation.Python.3.10_qbz5n2kfra8p0\\LocalCache\\local-packages\\Python310\\site-packages\\PIL\\Image.py:3035: DecompressionBombWarning: Image size (105318660 pixels) exceeds limit of 89478485 pixels, could be decompression bomb DOS attack.\n",
      "  warnings.warn(\n",
      " 55%|█████▌    | 1663/3000 [06:37<05:52,  3.79it/s]C:\\Users\\curtisu\\AppData\\Local\\Packages\\PythonSoftwareFoundation.Python.3.10_qbz5n2kfra8p0\\LocalCache\\local-packages\\Python310\\site-packages\\PIL\\Image.py:3035: DecompressionBombWarning: Image size (108576768 pixels) exceeds limit of 89478485 pixels, could be decompression bomb DOS attack.\n",
      "  warnings.warn(\n",
      " 57%|█████▋    | 1707/3000 [06:47<06:13,  3.46it/s]C:\\Users\\curtisu\\AppData\\Local\\Packages\\PythonSoftwareFoundation.Python.3.10_qbz5n2kfra8p0\\LocalCache\\local-packages\\Python310\\site-packages\\PIL\\Image.py:3035: DecompressionBombWarning: Image size (126780972 pixels) exceeds limit of 89478485 pixels, could be decompression bomb DOS attack.\n",
      "  warnings.warn(\n",
      " 64%|██████▍   | 1917/3000 [07:40<04:39,  3.88it/s]C:\\Users\\curtisu\\AppData\\Local\\Packages\\PythonSoftwareFoundation.Python.3.10_qbz5n2kfra8p0\\LocalCache\\local-packages\\Python310\\site-packages\\PIL\\TiffImagePlugin.py:845: UserWarning: Truncated File Read\n",
      "  warnings.warn(str(msg))\n",
      "C:\\Users\\curtisu\\AppData\\Local\\Packages\\PythonSoftwareFoundation.Python.3.10_qbz5n2kfra8p0\\LocalCache\\local-packages\\Python310\\site-packages\\PIL\\JpegImagePlugin.py:812: UserWarning: Image appears to be a malformed MPO file, it will be interpreted as a base JPEG file\n",
      "  warnings.warn(\n",
      " 65%|██████▍   | 1942/3000 [07:45<03:52,  4.55it/s]C:\\Users\\curtisu\\AppData\\Local\\Packages\\PythonSoftwareFoundation.Python.3.10_qbz5n2kfra8p0\\LocalCache\\local-packages\\Python310\\site-packages\\PIL\\Image.py:3035: DecompressionBombWarning: Image size (92488506 pixels) exceeds limit of 89478485 pixels, could be decompression bomb DOS attack.\n",
      "  warnings.warn(\n",
      " 82%|████████▏ | 2459/3000 [09:41<03:08,  2.87it/s]C:\\Users\\curtisu\\AppData\\Local\\Packages\\PythonSoftwareFoundation.Python.3.10_qbz5n2kfra8p0\\LocalCache\\local-packages\\Python310\\site-packages\\PIL\\Image.py:3035: DecompressionBombWarning: Image size (122674900 pixels) exceeds limit of 89478485 pixels, could be decompression bomb DOS attack.\n",
      "  warnings.warn(\n",
      "100%|██████████| 3000/3000 [11:39<00:00,  4.29it/s]\n"
     ]
    },
    {
     "name": "stdout",
     "output_type": "stream",
     "text": [
      "Processing folder: scans\n"
     ]
    },
    {
     "name": "stderr",
     "output_type": "stream",
     "text": [
      "100%|██████████| 3000/3000 [02:28<00:00, 20.24it/s]\n"
     ]
    },
    {
     "name": "stdout",
     "output_type": "stream",
     "text": [
      "Processing folder: written_letters\n"
     ]
    },
    {
     "name": "stderr",
     "output_type": "stream",
     "text": [
      "100%|██████████| 502/502 [01:52<00:00,  4.46it/s]\n"
     ]
    }
   ],
   "source": [
    "augment = True\n",
    "delete_originals = False\n",
    "image_resample_size = (1080, 1080)\n",
    "\n",
    "# Provide the absolute path to the folder that has your datasets\n",
    "absolute_path_to_sources = \"C:/GOMBOC_DATA/[PROCESSING]\"\n",
    "\n",
    "def make_folders(directory):\n",
    "    Path(directory).mkdir(exist_ok=True)\n",
    "    Path(directory + \"/0\").mkdir(exist_ok=True)\n",
    "    Path(directory + \"/90\").mkdir(exist_ok=True)\n",
    "    Path(directory + \"/180\").mkdir(exist_ok=True)\n",
    "    Path(directory + \"/270\").mkdir(exist_ok=True)\n",
    "\n",
    "Path(\"data\").mkdir(exist_ok=True)\n",
    "Path(\"data/test\").mkdir(exist_ok=True)\n",
    "\n",
    "\n",
    "for folder in Path(absolute_path_to_sources).glob(\"*\"):\n",
    "    np.random.seed(1337)\n",
    "    random.seed(1337)\n",
    "\n",
    "    dataset_folder_name = folder.name\n",
    "    print(\"Processing folder:\", dataset_folder_name)\n",
    "\n",
    "    # Make folders\n",
    "    for folder in [\"test\", \"train\", \"validate\"]:\n",
    "        Path(\"data/\" + folder).mkdir(exist_ok=True)\n",
    "        write_path = \"data/\" + folder + \"/\" + dataset_folder_name\n",
    "        make_folders(write_path)\n",
    "    \n",
    "    paths = Path(absolute_path_to_sources + \"/\" + dataset_folder_name).glob(\"*\")\n",
    "    files = np.array([x for x in paths if x.is_file()])\n",
    "    np.random.shuffle(files)\n",
    "\n",
    "    for i in tqdm(range(len(files))):\n",
    "        file_path = files[i]\n",
    "        try:\n",
    "            img = Image.open(file_path)\n",
    "            img.thumbnail(image_resample_size, resample=Image.Resampling.BICUBIC)\n",
    "        except:\n",
    "            # print(\"Could not open image:\", file_path)\n",
    "            # print(\"Continuing...\")\n",
    "            continue\n",
    "\n",
    "        rotation_degree = { 0: 0, 1: 90, 2: 180, 3: 270 } \n",
    "        rotations_set =  [0, 1, 2, 3] if augment else [random.randint(0, 3)]\n",
    "\n",
    "        for rotations in rotations_set:\n",
    "            degrees = rotation_degree[rotations]\n",
    "            label = str(360 - degrees if degrees > 0 else 0)\n",
    "            \n",
    "            try:\n",
    "                write_img = img.copy().rotate(degrees, expand=True, resample=Image.Resampling.BICUBIC) if degrees > 0 else img.copy()\n",
    "                file_name = Path(file_path).name\n",
    "\n",
    "                # Write image to new folder\n",
    "                if ((i + 1) / len(files) <= 0.1):\n",
    "                    #Test\n",
    "                    write_img.save(\"data/test/\" + dataset_folder_name + \"/\" + label + \"/\" + file_name)\n",
    "                elif ((i + 1) / len(files) <= 0.3):\n",
    "                    # Validate\n",
    "                    write_img.save(\"data/validate/\" + label + \"/\" + file_name)\n",
    "                else:\n",
    "                    # Train\n",
    "                    write_img.save(\"data/train/\" + label + \"/\" + file_name)\n",
    "                        \n",
    "            except:\n",
    "                continue\n",
    "                #print(\"Could not write image:\", write_path + \"/\" + label + \"/\" + file_name)\n",
    "                #print(\"Continuing...\")\n",
    "\n",
    "        # Delete original image\n",
    "        if (delete_originals):\n",
    "            Path(file_path).unlink()\n",
    "\n",
    "\n"
   ]
  },
  {
   "cell_type": "markdown",
   "id": "fe2ac827",
   "metadata": {},
   "source": [
    "## References\n",
    " - https://www.tensorflow.org/tutorials/load_data/images\n",
    " - https://stackoverflow.com/questions/17821945/how-to-preserve-image-quality-when-rotating-with-pil\n"
   ]
  }
 ],
 "metadata": {
  "kernelspec": {
   "display_name": "Python 3.10.8 64-bit (microsoft store)",
   "language": "python",
   "name": "python3"
  },
  "language_info": {
   "codemirror_mode": {
    "name": "ipython",
    "version": 3
   },
   "file_extension": ".py",
   "mimetype": "text/x-python",
   "name": "python",
   "nbconvert_exporter": "python",
   "pygments_lexer": "ipython3",
   "version": "3.10.9 (tags/v3.10.9:1dd9be6, Dec  6 2022, 20:01:21) [MSC v.1934 64 bit (AMD64)]"
  },
  "vscode": {
   "interpreter": {
    "hash": "bc5ead9611e77684a789e4b4f9ebadf6bb510c2e6708d5e7f502dbe47e4a8c8a"
   }
  }
 },
 "nbformat": 4,
 "nbformat_minor": 5
}
