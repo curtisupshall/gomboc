{
 "cells": [
  {
   "cell_type": "markdown",
   "id": "ae319c88",
   "metadata": {},
   "source": [
    "## rotate.py\n",
    "\n",
    "Moves all images in a given directory into four subdirectories, then labels rotates them accordingly."
   ]
  },
  {
   "cell_type": "code",
   "execution_count": 3,
   "id": "cdfa1a8d",
   "metadata": {},
   "outputs": [],
   "source": [
    "import os\n",
    "import random\n",
    "import numpy as np\n",
    "import PIL\n",
    "from PIL import Image\n",
    "from pathlib import Path\n",
    "from tqdm import tqdm"
   ]
  },
  {
   "cell_type": "code",
   "execution_count": 5,
   "id": "70b44d8c",
   "metadata": {},
   "outputs": [
    {
     "name": "stdout",
     "output_type": "stream",
     "text": [
      "Processing folder: astro_objects\n"
     ]
    },
    {
     "name": "stderr",
     "output_type": "stream",
     "text": [
      " 27%|██▋       | 271/1002 [00:11<00:20, 36.25it/s]C:\\Users\\Curtis\\AppData\\Roaming\\Python\\Python310\\site-packages\\PIL\\Image.py:3035: DecompressionBombWarning: Image size (101931654 pixels) exceeds limit of 89478485 pixels, could be decompression bomb DOS attack.\n",
      "  warnings.warn(\n",
      "100%|██████████| 1002/1002 [00:32<00:00, 30.75it/s]\n"
     ]
    },
    {
     "name": "stdout",
     "output_type": "stream",
     "text": [
      "Processing folder: cubes\n"
     ]
    },
    {
     "name": "stderr",
     "output_type": "stream",
     "text": [
      "100%|██████████| 37/37 [00:01<00:00, 19.40it/s]\n"
     ]
    },
    {
     "name": "stdout",
     "output_type": "stream",
     "text": [
      "Processing folder: extracted_images\n"
     ]
    },
    {
     "name": "stderr",
     "output_type": "stream",
     "text": [
      " 11%|█▏        | 1145/9997 [01:19<07:25, 19.86it/s] C:\\Users\\Curtis\\AppData\\Roaming\\Python\\Python310\\site-packages\\PIL\\Image.py:3035: DecompressionBombWarning: Image size (112228326 pixels) exceeds limit of 89478485 pixels, could be decompression bomb DOS attack.\n",
      "  warnings.warn(\n",
      " 21%|██▏       | 2128/9997 [02:11<06:06, 21.45it/s]C:\\Users\\Curtis\\AppData\\Roaming\\Python\\Python310\\site-packages\\PIL\\Image.py:3035: DecompressionBombWarning: Image size (95087976 pixels) exceeds limit of 89478485 pixels, could be decompression bomb DOS attack.\n",
      "  warnings.warn(\n",
      " 66%|██████▌   | 6602/9997 [06:05<02:30, 22.63it/s]C:\\Users\\Curtis\\AppData\\Roaming\\Python\\Python310\\site-packages\\PIL\\Image.py:3035: DecompressionBombWarning: Image size (99987930 pixels) exceeds limit of 89478485 pixels, could be decompression bomb DOS attack.\n",
      "  warnings.warn(\n",
      " 79%|███████▉  | 7874/9997 [07:11<02:31, 14.03it/s]C:\\Users\\Curtis\\AppData\\Roaming\\Python\\Python310\\site-packages\\PIL\\Image.py:3035: DecompressionBombWarning: Image size (106712326 pixels) exceeds limit of 89478485 pixels, could be decompression bomb DOS attack.\n",
      "  warnings.warn(\n",
      "100%|██████████| 9997/9997 [09:00<00:00, 18.50it/s]\n"
     ]
    },
    {
     "name": "stdout",
     "output_type": "stream",
     "text": [
      "Processing folder: illustrations\n"
     ]
    },
    {
     "name": "stderr",
     "output_type": "stream",
     "text": [
      "  1%|          | 58/5260 [00:15<18:19,  4.73it/s] C:\\Users\\Curtis\\AppData\\Roaming\\Python\\Python310\\site-packages\\PIL\\Image.py:3035: DecompressionBombWarning: Image size (121615285 pixels) exceeds limit of 89478485 pixels, could be decompression bomb DOS attack.\n",
      "  warnings.warn(\n",
      " 19%|█▊        | 985/5260 [01:49<03:33, 20.06it/s]  C:\\Users\\Curtis\\AppData\\Roaming\\Python\\Python310\\site-packages\\PIL\\Image.py:3035: DecompressionBombWarning: Image size (90315008 pixels) exceeds limit of 89478485 pixels, could be decompression bomb DOS attack.\n",
      "  warnings.warn(\n",
      " 49%|████▊     | 2563/5260 [03:39<03:55, 11.47it/s]C:\\Users\\Curtis\\AppData\\Roaming\\Python\\Python310\\site-packages\\PIL\\Image.py:3035: DecompressionBombWarning: Image size (92878016 pixels) exceeds limit of 89478485 pixels, could be decompression bomb DOS attack.\n",
      "  warnings.warn(\n",
      "100%|██████████| 5260/5260 [06:40<00:00, 13.12it/s]\n"
     ]
    },
    {
     "name": "stdout",
     "output_type": "stream",
     "text": [
      "Processing folder: nature\n"
     ]
    },
    {
     "name": "stderr",
     "output_type": "stream",
     "text": [
      " 23%|██▎       | 701/3000 [01:32<04:18,  8.90it/s]C:\\Users\\Curtis\\AppData\\Roaming\\Python\\Python310\\site-packages\\PIL\\Image.py:3035: DecompressionBombWarning: Image size (127658970 pixels) exceeds limit of 89478485 pixels, could be decompression bomb DOS attack.\n",
      "  warnings.warn(\n",
      " 33%|███▎      | 991/3000 [02:07<03:53,  8.61it/s]C:\\Users\\Curtis\\AppData\\Roaming\\Python\\Python310\\site-packages\\PIL\\Image.py:3035: DecompressionBombWarning: Image size (105318660 pixels) exceeds limit of 89478485 pixels, could be decompression bomb DOS attack.\n",
      "  warnings.warn(\n",
      " 55%|█████▌    | 1663/3000 [03:31<02:36,  8.57it/s]C:\\Users\\Curtis\\AppData\\Roaming\\Python\\Python310\\site-packages\\PIL\\Image.py:3035: DecompressionBombWarning: Image size (108576768 pixels) exceeds limit of 89478485 pixels, could be decompression bomb DOS attack.\n",
      "  warnings.warn(\n",
      " 57%|█████▋    | 1707/3000 [03:36<03:07,  6.90it/s]C:\\Users\\Curtis\\AppData\\Roaming\\Python\\Python310\\site-packages\\PIL\\Image.py:3035: DecompressionBombWarning: Image size (126780972 pixels) exceeds limit of 89478485 pixels, could be decompression bomb DOS attack.\n",
      "  warnings.warn(\n",
      " 64%|██████▍   | 1916/3000 [04:02<02:47,  6.47it/s]C:\\Users\\Curtis\\AppData\\Roaming\\Python\\Python310\\site-packages\\PIL\\TiffImagePlugin.py:845: UserWarning: Truncated File Read\n",
      "  warnings.warn(str(msg))\n",
      "C:\\Users\\Curtis\\AppData\\Roaming\\Python\\Python310\\site-packages\\PIL\\JpegImagePlugin.py:812: UserWarning: Image appears to be a malformed MPO file, it will be interpreted as a base JPEG file\n",
      "  warnings.warn(\n",
      " 65%|██████▍   | 1942/3000 [04:05<02:15,  7.81it/s]C:\\Users\\Curtis\\AppData\\Roaming\\Python\\Python310\\site-packages\\PIL\\Image.py:3035: DecompressionBombWarning: Image size (92488506 pixels) exceeds limit of 89478485 pixels, could be decompression bomb DOS attack.\n",
      "  warnings.warn(\n",
      " 82%|████████▏ | 2459/3000 [05:08<00:51, 10.45it/s]C:\\Users\\Curtis\\AppData\\Roaming\\Python\\Python310\\site-packages\\PIL\\Image.py:3035: DecompressionBombWarning: Image size (122674900 pixels) exceeds limit of 89478485 pixels, could be decompression bomb DOS attack.\n",
      "  warnings.warn(\n",
      "100%|██████████| 3000/3000 [06:16<00:00,  7.97it/s]\n"
     ]
    },
    {
     "name": "stdout",
     "output_type": "stream",
     "text": [
      "Processing folder: scans\n"
     ]
    },
    {
     "name": "stderr",
     "output_type": "stream",
     "text": [
      "100%|██████████| 3000/3000 [01:00<00:00, 49.28it/s]\n"
     ]
    },
    {
     "name": "stdout",
     "output_type": "stream",
     "text": [
      "Processing folder: written_letters\n"
     ]
    },
    {
     "name": "stderr",
     "output_type": "stream",
     "text": [
      "100%|██████████| 502/502 [00:43<00:00, 11.41it/s]\n"
     ]
    }
   ],
   "source": [
    "augment = True\n",
    "delete_originals = False\n",
    "image_resample_size = (1080, 1080)\n",
    "\n",
    "# Provide the absolute path to the folder that has your datasets\n",
    "absolute_path_to_sources = \"E:/GOMBOC_DATA/[PROCESSING]\"\n",
    "\n",
    "def make_folders(directory):\n",
    "    Path(directory).mkdir(exist_ok=True)\n",
    "    Path(directory + \"/0\").mkdir(exist_ok=True)\n",
    "    Path(directory + \"/90\").mkdir(exist_ok=True)\n",
    "    Path(directory + \"/180\").mkdir(exist_ok=True)\n",
    "    Path(directory + \"/270\").mkdir(exist_ok=True)\n",
    "\n",
    "Path(\"data\").mkdir(exist_ok=True)\n",
    "Path(\"data/test\").mkdir(exist_ok=True)\n",
    "# Make folders for train and validate\n",
    "for folder in [\"train\", \"validate\"]:\n",
    "    Path(\"data/\" + folder).mkdir(exist_ok=True)\n",
    "    make_folders(\"data/\" + folder)\n",
    "\n",
    "for folder in Path(absolute_path_to_sources).glob(\"*\"):\n",
    "    np.random.seed(1337)\n",
    "    random.seed(1337)\n",
    "\n",
    "    dataset_folder_name = folder.name\n",
    "    print(\"Processing folder:\", dataset_folder_name)\n",
    "\n",
    "    # Make folders for test\n",
    "    for folder in [\"test\"]:\n",
    "        Path(\"data/\" + folder).mkdir(exist_ok=True)\n",
    "        write_path = \"data/\" + folder + \"/\" + dataset_folder_name\n",
    "        make_folders(write_path)\n",
    "    \n",
    "    paths = Path(absolute_path_to_sources + \"/\" + dataset_folder_name).glob(\"*\")\n",
    "    files = np.array([x for x in paths if x.is_file()])\n",
    "    np.random.shuffle(files)\n",
    "\n",
    "    for i in tqdm(range(len(files))):\n",
    "        file_path = files[i]\n",
    "        try:\n",
    "            img = Image.open(file_path)\n",
    "            img.thumbnail(image_resample_size, resample=Image.Resampling.BICUBIC)\n",
    "        except:\n",
    "            # print(\"Could not open image:\", file_path)\n",
    "            # print(\"Continuing...\")\n",
    "            continue\n",
    "\n",
    "        rotation_degree = { 0: 0, 1: 90, 2: 180, 3: 270 } \n",
    "        rotations_set =  [0, 1, 2, 3] if augment else [random.randint(0, 3)]\n",
    "\n",
    "        for rotations in rotations_set:\n",
    "            degrees = rotation_degree[rotations]\n",
    "            label = str(360 - degrees if degrees > 0 else 0)\n",
    "            \n",
    "            try:\n",
    "                write_img = img.copy().rotate(degrees, expand=True, resample=Image.Resampling.BICUBIC) if degrees > 0 else img.copy()\n",
    "                file_name = Path(file_path).name\n",
    "\n",
    "                # Write image to new folder\n",
    "                if ((i + 1) / len(files) <= 0.05):\n",
    "                    # Validate\n",
    "                    write_img.save(\"data/validate/\" + label + \"/\" + file_name)\n",
    "                else:\n",
    "                    continue\n",
    "                # Write image to new folder\n",
    "                if ((i + 1) / len(files) <= 0.1):\n",
    "                    #Test\n",
    "                    write_img.save(\"data/test/\" + dataset_folder_name + \"/\" + label + \"/\" + file_name)\n",
    "                elif ((i + 1) / len(files) <= 0.3):\n",
    "                    # Validate\n",
    "                    write_img.save(\"data/validate/\" + label + \"/\" + file_name)\n",
    "                else:\n",
    "                    # Train\n",
    "                    write_img.save(\"data/train/\" + label + \"/\" + file_name)\n",
    "                        \n",
    "            except:\n",
    "                continue\n",
    "                #print(\"Could not write image:\", write_path + \"/\" + label + \"/\" + file_name)\n",
    "                #print(\"Continuing...\")\n",
    "\n",
    "        # Delete original image\n",
    "        if (delete_originals):\n",
    "            Path(file_path).unlink()\n",
    "\n",
    "\n"
   ]
  },
  {
   "cell_type": "markdown",
   "id": "fe2ac827",
   "metadata": {},
   "source": [
    "## References\n",
    " - https://www.tensorflow.org/tutorials/load_data/images\n",
    " - https://stackoverflow.com/questions/17821945/how-to-preserve-image-quality-when-rotating-with-pil\n"
   ]
  }
 ],
 "metadata": {
  "kernelspec": {
   "display_name": "Python 3.10.7 64-bit",
   "language": "python",
   "name": "python3"
  },
  "language_info": {
   "codemirror_mode": {
    "name": "ipython",
    "version": 3
   },
   "file_extension": ".py",
   "mimetype": "text/x-python",
   "name": "python",
   "nbconvert_exporter": "python",
   "pygments_lexer": "ipython3",
   "version": "3.10.7"
  },
  "vscode": {
   "interpreter": {
    "hash": "26de051ba29f2982a8de78e945f0abaf191376122a1563185a90213a26c5da77"
   }
  }
 },
 "nbformat": 4,
 "nbformat_minor": 5
}
