{
 "cells": [
  {
   "cell_type": "markdown",
   "id": "ae319c88",
   "metadata": {},
   "source": [
    "## rotate.py\n",
    "\n",
    "Moves all images in a given directory into four subdirectories, then labels rotates them accordingly."
   ]
  },
  {
   "cell_type": "code",
   "execution_count": 2,
   "id": "cdfa1a8d",
   "metadata": {},
   "outputs": [],
   "source": [
    "import os\n",
    "import random\n",
    "import numpy as np\n",
    "import PIL\n",
    "from PIL import Image\n",
    "from pathlib import Path\n",
    "from tqdm import tqdm"
   ]
  },
  {
   "cell_type": "code",
   "execution_count": null,
   "id": "70b44d8c",
   "metadata": {},
   "outputs": [],
   "source": [
    "augment = True\n",
    "delete_originals = False\n",
    "\n",
    "absolute_path_to_sources = \"C:/GOMBOC_DATA\"\n",
    "\n",
    "def make_folders(directory):\n",
    "    Path(directory).mkdir(exist_ok=True)\n",
    "    Path(directory + \"/0\").mkdir(exist_ok=True)\n",
    "    Path(directory + \"/90\").mkdir(exist_ok=True)\n",
    "    Path(directory + \"/180\").mkdir(exist_ok=True)\n",
    "    Path(directory + \"/270\").mkdir(exist_ok=True)\n",
    "\n",
    "Path(\"data\").mkdir(exist_ok=True)\n",
    "for folder in [\"test\", \"train\", \"validate\"]:\n",
    "    write_path = \"data/\" + folder\n",
    "    make_folders(write_path)\n",
    "\n",
    "for folder in Path(absolute_path_to_sources).glob(\"*\"):\n",
    "    dataset_folder_name = folder.name\n",
    "    print(\"Processing folder:\", dataset_folder_name)\n",
    "\n",
    "    make_folders(\"data/test/\" + dataset_folder_name)\n",
    "    \n",
    "    paths = Path(absolute_path_to_sources + \"/\" + dataset_folder_name).glob(\"*\")\n",
    "    files = np.array([x for x in paths if x.is_file()])\n",
    "    np.random.shuffle(files)\n",
    "\n",
    "    for i in tqdm(range(len(files))):\n",
    "        file_path = files[i]\n",
    "        try:\n",
    "            img = Image.open(file_path)\n",
    "        except:\n",
    "            # print(\"Could not open image:\", file_path)\n",
    "            # print(\"Continuing...\")\n",
    "            continue\n",
    "\n",
    "        rotation_degree = { 0: 0, 1: 90, 2: 180, 3: 270 } \n",
    "        rotations_set =  [0, 1, 2, 3] if augment else [random.randint(0, 3)]\n",
    "\n",
    "        for rotations in rotations_set:\n",
    "            degrees = rotation_degree[rotations]\n",
    "            label = str(360 - degrees if degrees > 0 else 0)\n",
    "            write_img = img.rotate(degrees, expand=True, resample=Image.Resampling.BICUBIC) if degrees > 0 else img.copy()\n",
    "            file_name = Path(file_path).name\n",
    "\n",
    "            # Write image to new folder\n",
    "            try:\n",
    "                if (i / len(files) < 0.7):\n",
    "                    # Train\n",
    "                    write_img.save(\"data/train/\" + label + \"/\" + file_name)\n",
    "                elif i / len(files < 0.9):\n",
    "                    # Validate\n",
    "                    write_img.save(\"data/validate/\" + label + \"/\" + file_name)\n",
    "                else:\n",
    "                    #Test\n",
    "                    write_img.save(\"data/test/\" + dataset_folder_name + \"/\" + label + \"/\" + file_name)\n",
    "                    \n",
    "            except:\n",
    "                continue\n",
    "                #print(\"Could not write image:\", write_path + \"/\" + label + \"/\" + file_name)\n",
    "                #print(\"Continuing...\")\n",
    "\n",
    "        # Delete original image\n",
    "        if (delete_originals):\n",
    "            Path(file_path).unlink()\n",
    "\n",
    "# cv2.imwrite(\"testout.JPEG\", write_image)\n",
    "\n"
   ]
  },
  {
   "cell_type": "markdown",
   "id": "fe2ac827",
   "metadata": {},
   "source": [
    "## References\n",
    " - https://www.tensorflow.org/tutorials/load_data/images\n",
    " - https://stackoverflow.com/questions/17821945/how-to-preserve-image-quality-when-rotating-with-pil\n"
   ]
  }
 ],
 "metadata": {
  "kernelspec": {
   "display_name": "Python 3.10.8 64-bit (microsoft store)",
   "language": "python",
   "name": "python3"
  },
  "language_info": {
   "codemirror_mode": {
    "name": "ipython",
    "version": 3
   },
   "file_extension": ".py",
   "mimetype": "text/x-python",
   "name": "python",
   "nbconvert_exporter": "python",
   "pygments_lexer": "ipython3",
   "version": "3.10.8"
  },
  "vscode": {
   "interpreter": {
    "hash": "bc5ead9611e77684a789e4b4f9ebadf6bb510c2e6708d5e7f502dbe47e4a8c8a"
   }
  }
 },
 "nbformat": 4,
 "nbformat_minor": 5
}
