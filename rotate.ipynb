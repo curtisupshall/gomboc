{
    "cells": [
     {
      "cell_type": "markdown",
      "id": "ae319c88",
      "metadata": {},
      "source": [
       "## rotate.py\n",
       "\n",
       "Moves all images in a given directory into four subdirectories, then labels rotates them accordingly."
      ]
     },
     {
      "cell_type": "code",
      "execution_count": 5,
      "id": "70b44d8c",
      "metadata": {},
      "outputs": [],
      "source": [
       "import os\n",
       "import random\n",
       "import numpy as np\n",
       "import PIL\n",
       "from PIL import Image\n",
       "from pathlib import Path\n",
       "\n",
       "root = \"validate\"\n",
       "augment = True\n",
       "delete_originals = True\n",
       "\n",
       "Path(root + \"/0\").mkdir(exist_ok=True)\n",
       "Path(root + \"/90\").mkdir(exist_ok=True)\n",
       "Path(root + \"/180\").mkdir(exist_ok=True)\n",
       "Path(root + \"/270\").mkdir(exist_ok=True)\n",
       "\n",
       "paths = Path(root).glob(\"*\")\n",
       "files = [x for x in paths if x.is_file()]\n",
       "\n",
       "for file_path in files:\n",
       "    img = Image.open(file_path)\n",
       "\n",
       "    rotation_degree = { 0: 0, 1: 90, 2: 180, 3: 270 } \n",
       "    rotations_set =  [0, 1, 2, 3] if augment else [random.randint(0, 3)]\n",
       "\n",
       "    for rotations in rotations_set:\n",
       "        degrees = rotation_degree[rotations]\n",
       "        label = str(360 - degrees if degrees > 0 else 0)\n",
       "        write_img = img.rotate(degrees, expand=True, resample=Image.Resampling.BICUBIC) if degrees > 0 else img.copy()\n",
       "\n",
       "        file_name = Path(file_path).name\n",
       "        # Write image to new folder\n",
       "        write_img.save(root + \"/\" + label + \"/\" + file_name)\n",
       "\n",
       "    # Delete original image\n",
       "    if (delete_originals):\n",
       "        Path(file_path).unlink()\n",
       "\n",
       "# cv2.imwrite(\"testout.JPEG\", write_image)\n",
       "\n"
      ]
     },
     {
      "cell_type": "code",
      "execution_count": null,
      "id": "d4ab6343",
      "metadata": {},
      "outputs": [],
      "source": [
       "# Load image\n",
       "tf.keras.preprocessing.image.load_img(path)\n"
      ]
     },
     {
      "cell_type": "markdown",
      "id": "fe2ac827",
      "metadata": {},
      "source": [
       "## References\n",
       " - https://www.tensorflow.org/tutorials/load_data/images\n",
       " - https://stackoverflow.com/questions/17821945/how-to-preserve-image-quality-when-rotating-with-pil\n"
      ]
     }
    ],
    "metadata": {
     "kernelspec": {
      "display_name": "Python 3.10.8 64-bit (microsoft store)",
      "language": "python",
      "name": "python3"
     },
     "language_info": {
      "codemirror_mode": {
       "name": "ipython",
       "version": 3
      },
      "file_extension": ".py",
      "mimetype": "text/x-python",
      "name": "python",
      "nbconvert_exporter": "python",
      "pygments_lexer": "ipython3",
      "version": "3.10.8"
     },
     "vscode": {
      "interpreter": {
       "hash": "bc5ead9611e77684a789e4b4f9ebadf6bb510c2e6708d5e7f502dbe47e4a8c8a"
      }
     }
    },
    "nbformat": 4,
    "nbformat_minor": 5
   }
   