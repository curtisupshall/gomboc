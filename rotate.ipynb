{
 "cells": [
  {
   "cell_type": "markdown",
   "id": "ae319c88",
   "metadata": {},
   "source": [
    "## rotate.py\n",
    "\n",
    "Moves all images in a given directory into four subdirectories, then labels rotates them accordingly."
   ]
  },
  {
   "cell_type": "code",
   "execution_count": 2,
   "id": "cdfa1a8d",
   "metadata": {},
   "outputs": [],
   "source": [
    "import os\n",
    "import random\n",
    "import numpy as np\n",
    "import PIL\n",
    "from PIL import Image\n",
    "from pathlib import Path\n",
    "from tqdm import tqdm"
   ]
  },
  {
   "cell_type": "code",
   "execution_count": 3,
   "id": "70b44d8c",
   "metadata": {},
   "outputs": [
    {
     "name": "stdout",
     "output_type": "stream",
     "text": [
      "Processing folder: illustrations\n"
     ]
    },
    {
     "name": "stderr",
     "output_type": "stream",
     "text": [
      "  1%|          | 58/5260 [00:19<24:50,  3.49it/s]  C:\\Users\\Curtis\\AppData\\Roaming\\Python\\Python310\\site-packages\\PIL\\Image.py:3035: DecompressionBombWarning: Image size (121615285 pixels) exceeds limit of 89478485 pixels, could be decompression bomb DOS attack.\n",
      "  warnings.warn(\n",
      " 19%|█▊        | 984/5260 [06:00<18:21,  3.88it/s]  C:\\Users\\Curtis\\AppData\\Roaming\\Python\\Python310\\site-packages\\PIL\\Image.py:3035: DecompressionBombWarning: Image size (90315008 pixels) exceeds limit of 89478485 pixels, could be decompression bomb DOS attack.\n",
      "  warnings.warn(\n",
      " 49%|████▉     | 2565/5260 [16:16<19:14,  2.33it/s]  C:\\Users\\Curtis\\AppData\\Roaming\\Python\\Python310\\site-packages\\PIL\\Image.py:3035: DecompressionBombWarning: Image size (92878016 pixels) exceeds limit of 89478485 pixels, could be decompression bomb DOS attack.\n",
      "  warnings.warn(\n",
      " 69%|██████▉   | 3633/5260 [23:07<14:37,  1.85it/s]  "
     ]
    }
   ],
   "source": [
    "augment = True\n",
    "delete_originals = False\n",
    "\n",
    "absolute_path_to_sources = \"E:/GOMBOC_DATA/[PROCESSING]\"\n",
    "\n",
    "def make_folders(directory):\n",
    "    Path(directory).mkdir(exist_ok=True)\n",
    "    Path(directory + \"/0\").mkdir(exist_ok=True)\n",
    "    Path(directory + \"/90\").mkdir(exist_ok=True)\n",
    "    Path(directory + \"/180\").mkdir(exist_ok=True)\n",
    "    Path(directory + \"/270\").mkdir(exist_ok=True)\n",
    "\n",
    "Path(\"data\").mkdir(exist_ok=True)\n",
    "Path(\"data/test\").mkdir(exist_ok=True)\n",
    "\n",
    "\n",
    "for folder in Path(absolute_path_to_sources).glob(\"*\"):\n",
    "    np.random.seed(1337)\n",
    "    random.seed(1337)\n",
    "\n",
    "    dataset_folder_name = folder.name\n",
    "    print(\"Processing folder:\", dataset_folder_name)\n",
    "\n",
    "    # Make folders\n",
    "    for folder in [\"test\", \"train\", \"validate\"]:\n",
    "        Path(\"data/\" + folder).mkdir(exist_ok=True)\n",
    "        write_path = \"data/\" + folder + \"/\" + dataset_folder_name\n",
    "        make_folders(write_path)\n",
    "    \n",
    "    paths = Path(absolute_path_to_sources + \"/\" + dataset_folder_name).glob(\"*\")\n",
    "    files = np.array([x for x in paths if x.is_file()])\n",
    "    np.random.shuffle(files)\n",
    "\n",
    "    for i in tqdm(range(len(files))):\n",
    "        file_path = files[i]\n",
    "        try:\n",
    "            img = Image.open(file_path)\n",
    "        except:\n",
    "            # print(\"Could not open image:\", file_path)\n",
    "            # print(\"Continuing...\")\n",
    "            continue\n",
    "\n",
    "        rotation_degree = { 0: 0, 1: 90, 2: 180, 3: 270 } \n",
    "        rotations_set =  [0, 1, 2, 3] if augment else [random.randint(0, 3)]\n",
    "\n",
    "        for rotations in rotations_set:\n",
    "            degrees = rotation_degree[rotations]\n",
    "            label = str(360 - degrees if degrees > 0 else 0)\n",
    "            \n",
    "            try:\n",
    "                write_img = img.rotate(degrees, expand=True, resample=Image.Resampling.BICUBIC) if degrees > 0 else img.copy()\n",
    "                file_name = Path(file_path).name\n",
    "\n",
    "                # Write image to new folder\n",
    "                if ((i + 1) / len(files) <= 0.1):\n",
    "                    #Test\n",
    "                    write_img.save(\"data/test/\" + dataset_folder_name + \"/\" + label + \"/\" + file_name)\n",
    "                elif ((i + 1) / len(files) <= 0.3):\n",
    "                    # Validate\n",
    "                    write_img.save(\"data/validate/\" + dataset_folder_name + \"/\" + label + \"/\" + file_name)\n",
    "                else:\n",
    "                    # Train\n",
    "                    write_img.save(\"data/train/\" + dataset_folder_name + \"/\" + label + \"/\" + file_name)\n",
    "                        \n",
    "            except:\n",
    "                continue\n",
    "                #print(\"Could not write image:\", write_path + \"/\" + label + \"/\" + file_name)\n",
    "                #print(\"Continuing...\")\n",
    "\n",
    "        # Delete original image\n",
    "        if (delete_originals):\n",
    "            Path(file_path).unlink()\n",
    "\n",
    "# cv2.imwrite(\"testout.JPEG\", write_image)\n",
    "\n"
   ]
  },
  {
   "cell_type": "markdown",
   "id": "fe2ac827",
   "metadata": {},
   "source": [
    "## References\n",
    " - https://www.tensorflow.org/tutorials/load_data/images\n",
    " - https://stackoverflow.com/questions/17821945/how-to-preserve-image-quality-when-rotating-with-pil\n"
   ]
  }
 ],
 "metadata": {
  "kernelspec": {
   "display_name": "Python 3.10.7 64-bit",
   "language": "python",
   "name": "python3"
  },
  "language_info": {
   "codemirror_mode": {
    "name": "ipython",
    "version": 3
   },
   "file_extension": ".py",
   "mimetype": "text/x-python",
   "name": "python",
   "nbconvert_exporter": "python",
   "pygments_lexer": "ipython3",
   "version": "3.10.7"
  },
  "vscode": {
   "interpreter": {
    "hash": "26de051ba29f2982a8de78e945f0abaf191376122a1563185a90213a26c5da77"
   }
  }
 },
 "nbformat": 4,
 "nbformat_minor": 5
}
